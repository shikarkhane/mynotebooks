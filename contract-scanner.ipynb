{
 "cells": [
  {
   "cell_type": "markdown",
   "metadata": {},
   "source": [
    "## Using amazon comprehend\n",
    "Article - https://medium.com/kontikilabs/comparing-machine-learning-ml-services-from-various-cloud-ml-service-providers-63c8a2626cb6"
   ]
  },
  {
   "cell_type": "code",
   "execution_count": 2,
   "metadata": {},
   "outputs": [
    {
     "name": "stdout",
     "output_type": "stream",
     "text": [
      "Collecting boto3\n",
      "\u001b[?25l  Downloading https://files.pythonhosted.org/packages/4a/64/b31797055f26d3fa2e8a9d7d2b638c73e251452f2614b4cd3287adf31580/boto3-1.9.126-py2.py3-none-any.whl (128kB)\n",
      "\u001b[K    100% |████████████████████████████████| 133kB 5.9MB/s ta 0:00:01\n",
      "\u001b[?25hCollecting s3transfer<0.3.0,>=0.2.0 (from boto3)\n",
      "\u001b[?25l  Downloading https://files.pythonhosted.org/packages/d7/de/5737f602e22073ecbded7a0c590707085e154e32b68d86545dcc31004c02/s3transfer-0.2.0-py2.py3-none-any.whl (69kB)\n",
      "\u001b[K    100% |████████████████████████████████| 71kB 5.1MB/s ta 0:00:011\n",
      "\u001b[?25hCollecting jmespath<1.0.0,>=0.7.1 (from boto3)\n",
      "  Downloading https://files.pythonhosted.org/packages/83/94/7179c3832a6d45b266ddb2aac329e101367fbdb11f425f13771d27f225bb/jmespath-0.9.4-py2.py3-none-any.whl\n",
      "Collecting botocore<1.13.0,>=1.12.126 (from boto3)\n",
      "\u001b[?25l  Downloading https://files.pythonhosted.org/packages/0c/fe/e120cb55d91b9c2442e7855f26d7017504aa0c2ede05023931f46adfb935/botocore-1.12.126-py2.py3-none-any.whl (5.4MB)\n",
      "\u001b[K    100% |████████████████████████████████| 5.4MB 5.6MB/s eta 0:00:01\n",
      "\u001b[?25hRequirement already satisfied: python-dateutil<3.0.0,>=2.1; python_version >= \"2.7\" in /anaconda3/lib/python3.6/site-packages (from botocore<1.13.0,>=1.12.126->boto3) (2.6.1)\n",
      "Requirement already satisfied: docutils>=0.10 in /anaconda3/lib/python3.6/site-packages (from botocore<1.13.0,>=1.12.126->boto3) (0.14)\n",
      "Requirement already satisfied: urllib3<1.25,>=1.20; python_version >= \"3.4\" in /anaconda3/lib/python3.6/site-packages (from botocore<1.13.0,>=1.12.126->boto3) (1.22)\n",
      "Requirement already satisfied: six>=1.5 in /anaconda3/lib/python3.6/site-packages (from python-dateutil<3.0.0,>=2.1; python_version >= \"2.7\"->botocore<1.13.0,>=1.12.126->boto3) (1.11.0)\n",
      "Installing collected packages: jmespath, botocore, s3transfer, boto3\n",
      "Successfully installed boto3-1.9.126 botocore-1.12.126 jmespath-0.9.4 s3transfer-0.2.0\n"
     ]
    }
   ],
   "source": [
    "!pip install boto3"
   ]
  },
  {
   "cell_type": "code",
   "execution_count": 11,
   "metadata": {},
   "outputs": [],
   "source": [
    "import boto3\n",
    "import time\n",
    "from datetime import timedelta\n",
    "import sys\n",
    "import os\n",
    "import argparse\n",
    "\n",
    "\n",
    "#We need to get our API credentials in the code for authentication that we have stored as Environment Variables locally.\n",
    "os.environ.get(\"AWS_ACCESS_KEY_ID\")\n",
    "os.environ.get(\"AWS_SECRET_ACCESS_KEY\")\n",
    "os.environ.get(\"AWS_REGION\")"
   ]
  },
  {
   "cell_type": "code",
   "execution_count": 12,
   "metadata": {},
   "outputs": [
    {
     "ename": "ClientError",
     "evalue": "An error occurred (AccessDeniedException) when calling the DetectDominantLanguage operation: User: arn:aws:iam::604859936242:user/aws-client-comeon is not authorized to perform: comprehend:DetectDominantLanguage",
     "output_type": "error",
     "traceback": [
      "\u001b[0;31m---------------------------------------------------------------------------\u001b[0m",
      "\u001b[0;31mClientError\u001b[0m                               Traceback (most recent call last)",
      "\u001b[0;32m<ipython-input-12-68834e11f8bc>\u001b[0m in \u001b[0;36m<module>\u001b[0;34m()\u001b[0m\n\u001b[1;32m     70\u001b[0m \u001b[0;34m\u001b[0m\u001b[0m\n\u001b[1;32m     71\u001b[0m \u001b[0minput_file\u001b[0m\u001b[0;34m(\u001b[0m\u001b[0;34m'contract.txt'\u001b[0m\u001b[0;34m)\u001b[0m\u001b[0;34m\u001b[0m\u001b[0m\n\u001b[0;32m---> 72\u001b[0;31m \u001b[0mdominant_language_text\u001b[0m\u001b[0;34m(\u001b[0m\u001b[0;34m)\u001b[0m\u001b[0;34m\u001b[0m\u001b[0m\n\u001b[0m\u001b[1;32m     73\u001b[0m \u001b[0mentities_text\u001b[0m\u001b[0;34m(\u001b[0m\u001b[0;34m)\u001b[0m\u001b[0;34m\u001b[0m\u001b[0m\n\u001b[1;32m     74\u001b[0m \u001b[0mkey_phrases_text\u001b[0m\u001b[0;34m(\u001b[0m\u001b[0;34m)\u001b[0m\u001b[0;34m\u001b[0m\u001b[0m\n",
      "\u001b[0;32m<ipython-input-12-68834e11f8bc>\u001b[0m in \u001b[0;36mdominant_language_text\u001b[0;34m()\u001b[0m\n\u001b[1;32m     21\u001b[0m     )\n\u001b[1;32m     22\u001b[0m     dominant_language_response = client_comprehend.detect_dominant_language(\n\u001b[0;32m---> 23\u001b[0;31m         \u001b[0mText\u001b[0m \u001b[0;34m=\u001b[0m \u001b[0mtext\u001b[0m\u001b[0;34m\u001b[0m\u001b[0m\n\u001b[0m\u001b[1;32m     24\u001b[0m     )\n\u001b[1;32m     25\u001b[0m     \u001b[0;31m#Print the Dominant Language\u001b[0m\u001b[0;34m\u001b[0m\u001b[0;34m\u001b[0m\u001b[0m\n",
      "\u001b[0;32m/anaconda3/lib/python3.6/site-packages/botocore/client.py\u001b[0m in \u001b[0;36m_api_call\u001b[0;34m(self, *args, **kwargs)\u001b[0m\n\u001b[1;32m    355\u001b[0m                     \"%s() only accepts keyword arguments.\" % py_operation_name)\n\u001b[1;32m    356\u001b[0m             \u001b[0;31m# The \"self\" in this scope is referring to the BaseClient.\u001b[0m\u001b[0;34m\u001b[0m\u001b[0;34m\u001b[0m\u001b[0m\n\u001b[0;32m--> 357\u001b[0;31m             \u001b[0;32mreturn\u001b[0m \u001b[0mself\u001b[0m\u001b[0;34m.\u001b[0m\u001b[0m_make_api_call\u001b[0m\u001b[0;34m(\u001b[0m\u001b[0moperation_name\u001b[0m\u001b[0;34m,\u001b[0m \u001b[0mkwargs\u001b[0m\u001b[0;34m)\u001b[0m\u001b[0;34m\u001b[0m\u001b[0m\n\u001b[0m\u001b[1;32m    358\u001b[0m \u001b[0;34m\u001b[0m\u001b[0m\n\u001b[1;32m    359\u001b[0m         \u001b[0m_api_call\u001b[0m\u001b[0;34m.\u001b[0m\u001b[0m__name__\u001b[0m \u001b[0;34m=\u001b[0m \u001b[0mstr\u001b[0m\u001b[0;34m(\u001b[0m\u001b[0mpy_operation_name\u001b[0m\u001b[0;34m)\u001b[0m\u001b[0;34m\u001b[0m\u001b[0m\n",
      "\u001b[0;32m/anaconda3/lib/python3.6/site-packages/botocore/client.py\u001b[0m in \u001b[0;36m_make_api_call\u001b[0;34m(self, operation_name, api_params)\u001b[0m\n\u001b[1;32m    659\u001b[0m             \u001b[0merror_code\u001b[0m \u001b[0;34m=\u001b[0m \u001b[0mparsed_response\u001b[0m\u001b[0;34m.\u001b[0m\u001b[0mget\u001b[0m\u001b[0;34m(\u001b[0m\u001b[0;34m\"Error\"\u001b[0m\u001b[0;34m,\u001b[0m \u001b[0;34m{\u001b[0m\u001b[0;34m}\u001b[0m\u001b[0;34m)\u001b[0m\u001b[0;34m.\u001b[0m\u001b[0mget\u001b[0m\u001b[0;34m(\u001b[0m\u001b[0;34m\"Code\"\u001b[0m\u001b[0;34m)\u001b[0m\u001b[0;34m\u001b[0m\u001b[0m\n\u001b[1;32m    660\u001b[0m             \u001b[0merror_class\u001b[0m \u001b[0;34m=\u001b[0m \u001b[0mself\u001b[0m\u001b[0;34m.\u001b[0m\u001b[0mexceptions\u001b[0m\u001b[0;34m.\u001b[0m\u001b[0mfrom_code\u001b[0m\u001b[0;34m(\u001b[0m\u001b[0merror_code\u001b[0m\u001b[0;34m)\u001b[0m\u001b[0;34m\u001b[0m\u001b[0m\n\u001b[0;32m--> 661\u001b[0;31m             \u001b[0;32mraise\u001b[0m \u001b[0merror_class\u001b[0m\u001b[0;34m(\u001b[0m\u001b[0mparsed_response\u001b[0m\u001b[0;34m,\u001b[0m \u001b[0moperation_name\u001b[0m\u001b[0;34m)\u001b[0m\u001b[0;34m\u001b[0m\u001b[0m\n\u001b[0m\u001b[1;32m    662\u001b[0m         \u001b[0;32melse\u001b[0m\u001b[0;34m:\u001b[0m\u001b[0;34m\u001b[0m\u001b[0m\n\u001b[1;32m    663\u001b[0m             \u001b[0;32mreturn\u001b[0m \u001b[0mparsed_response\u001b[0m\u001b[0;34m\u001b[0m\u001b[0m\n",
      "\u001b[0;31mClientError\u001b[0m: An error occurred (AccessDeniedException) when calling the DetectDominantLanguage operation: User: arn:aws:iam::604859936242:user/aws-client-comeon is not authorized to perform: comprehend:DetectDominantLanguage"
     ]
    }
   ],
   "source": [
    "\n",
    "#Following line is used to save all the console outputs in a text file.\n",
    "sys.stdout = open('output.txt','a')\n",
    "\n",
    "start_time = time.monotonic()\n",
    "\n",
    "\n",
    "def input_file(text_file_path):\n",
    "    global text\n",
    "    if os.path.isfile(text_file_path):\n",
    "        with open(text_file_path, 'r') as text_file:\n",
    "            text = text_file.read()\n",
    "    else:\n",
    "        print(\"File doesn't exist in the directory!\")\n",
    "\n",
    "\n",
    "def dominant_language_text():\n",
    "    #Initialize amazon_comprehend client function\n",
    "    client_comprehend = boto3.client(\n",
    "        'comprehend',\n",
    "    )\n",
    "    dominant_language_response = client_comprehend.detect_dominant_language(\n",
    "        Text = text\n",
    "    )\n",
    "    #Print the Dominant Language\n",
    "    print(\"Language:\", sorted(dominant_language_response['Languages'], key = lambda k: k['LanguageCode'])[0]['LanguageCode'])\n",
    "\n",
    "\n",
    "def entities_text():\n",
    "    #Initialize amazon_comprehend client function\n",
    "    client_comprehend = boto3.client(\n",
    "        'comprehend',\n",
    "    )\n",
    "    response_entities = client_comprehend.detect_entities(\n",
    "            Text = text,\n",
    "            LanguageCode = 'en'\n",
    "    )\n",
    "    entities = list(set([obj['Type'] for obj in response_entities['Entities']]))\n",
    "    #Print the Entities\n",
    "    print(\"Entities:\",entities)\n",
    "\n",
    "\n",
    "def key_phrases_text():\n",
    "    #Initialize amazon_comprehend client function\n",
    "    client_comprehend = boto3.client(\n",
    "        'comprehend',\n",
    "    )\n",
    "    response_key_phrases = client_comprehend.detect_key_phrases(\n",
    "        Text = text,\n",
    "        LanguageCode = 'en'\n",
    "    )\n",
    "    key_phrases = list(set([obj['Text'] for obj in response_key_phrases['KeyPhrases']]))\n",
    "    #Print the Key Phrases\n",
    "    print(\"Key Phrases:\", key_phrases)\n",
    "\n",
    "\n",
    "def sentiment_text():\n",
    "    #Initialize amazon_comprehend client function\n",
    "    client_comprehend = boto3.client(\n",
    "        'comprehend',\n",
    "    )\n",
    "    response_sentiment = client_comprehend.detect_sentiment(\n",
    "        Text = text,\n",
    "        LanguageCode = 'en'\n",
    "    )\n",
    "    sentiment = response_sentiment['Sentiment']\n",
    "    #Print the Sentiment\n",
    "    print(\"Sentiment Analysis:\" , sentiment)\n",
    "\n",
    "\n",
    "input_file('contract.txt')\n",
    "dominant_language_text()\n",
    "entities_text()\n",
    "key_phrases_text()\n",
    "sentiment_text()\n",
    "\n",
    "\n",
    "end_time = time.monotonic()\n",
    "print(\"Execution_Time:\", timedelta(seconds = end_time - start_time))"
   ]
  },
  {
   "cell_type": "code",
   "execution_count": 5,
   "metadata": {},
   "outputs": [],
   "source": []
  },
  {
   "cell_type": "code",
   "execution_count": null,
   "metadata": {},
   "outputs": [],
   "source": []
  }
 ],
 "metadata": {
  "kernelspec": {
   "display_name": "Python 3",
   "language": "python",
   "name": "python3"
  },
  "language_info": {
   "codemirror_mode": {
    "name": "ipython",
    "version": 3
   },
   "file_extension": ".py",
   "mimetype": "text/x-python",
   "name": "python",
   "nbconvert_exporter": "python",
   "pygments_lexer": "ipython3",
   "version": "3.6.4"
  }
 },
 "nbformat": 4,
 "nbformat_minor": 2
}
